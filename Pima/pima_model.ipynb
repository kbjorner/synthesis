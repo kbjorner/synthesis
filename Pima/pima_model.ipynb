{
 "cells": [
  {
   "cell_type": "markdown",
   "id": "dd32c1d7",
   "metadata": {
    "colab_type": "text",
    "id": "view-in-github"
   },
   "source": [
    "<a href=\"https://colab.research.google.com/github/nshoo/Neural-Synthesis-Visualization/blob/main/pima_model.ipynb\" target=\"_parent\"><img src=\"https://colab.research.google.com/assets/colab-badge.svg\" alt=\"Open In Colab\"/></a>"
   ]
  },
  {
   "cell_type": "code",
   "execution_count": 1,
   "id": "57c6e034",
   "metadata": {
    "id": "57c6e034"
   },
   "outputs": [
    {
     "name": "stderr",
     "output_type": "stream",
     "text": [
      "2022-08-12 17:52:59.537550: W tensorflow/stream_executor/platform/default/dso_loader.cc:64] Could not load dynamic library 'libcudart.so.11.0'; dlerror: libcudart.so.11.0: cannot open shared object file: No such file or directory\n",
      "2022-08-12 17:52:59.537787: I tensorflow/stream_executor/cuda/cudart_stub.cc:29] Ignore above cudart dlerror if you do not have a GPU set up on your machine.\n"
     ]
    }
   ],
   "source": [
    "import pandas as pd\n",
    "import tensorflow as tf\n",
    "from tensorflow import keras"
   ]
  },
  {
   "cell_type": "code",
   "execution_count": 2,
   "id": "9551cc51",
   "metadata": {
    "colab": {
     "base_uri": "https://localhost:8080/",
     "height": 241
    },
    "id": "9551cc51",
    "outputId": "51d57d33-6e9a-4af5-d48e-47c57924d35b"
   },
   "outputs": [
    {
     "name": "stdout",
     "output_type": "stream",
     "text": [
      "768\n",
      "9\n"
     ]
    },
    {
     "data": {
      "text/html": [
       "<div>\n",
       "<style scoped>\n",
       "    .dataframe tbody tr th:only-of-type {\n",
       "        vertical-align: middle;\n",
       "    }\n",
       "\n",
       "    .dataframe tbody tr th {\n",
       "        vertical-align: top;\n",
       "    }\n",
       "\n",
       "    .dataframe thead th {\n",
       "        text-align: right;\n",
       "    }\n",
       "</style>\n",
       "<table border=\"1\" class=\"dataframe\">\n",
       "  <thead>\n",
       "    <tr style=\"text-align: right;\">\n",
       "      <th></th>\n",
       "      <th>Pregnancies</th>\n",
       "      <th>Age</th>\n",
       "    </tr>\n",
       "  </thead>\n",
       "  <tbody>\n",
       "    <tr>\n",
       "      <th>0</th>\n",
       "      <td>6.0</td>\n",
       "      <td>50.0</td>\n",
       "    </tr>\n",
       "    <tr>\n",
       "      <th>1</th>\n",
       "      <td>1.0</td>\n",
       "      <td>31.0</td>\n",
       "    </tr>\n",
       "    <tr>\n",
       "      <th>2</th>\n",
       "      <td>8.0</td>\n",
       "      <td>32.0</td>\n",
       "    </tr>\n",
       "    <tr>\n",
       "      <th>3</th>\n",
       "      <td>1.0</td>\n",
       "      <td>21.0</td>\n",
       "    </tr>\n",
       "    <tr>\n",
       "      <th>4</th>\n",
       "      <td>0.0</td>\n",
       "      <td>33.0</td>\n",
       "    </tr>\n",
       "  </tbody>\n",
       "</table>\n",
       "</div>"
      ],
      "text/plain": [
       "   Pregnancies   Age\n",
       "0          6.0  50.0\n",
       "1          1.0  31.0\n",
       "2          8.0  32.0\n",
       "3          1.0  21.0\n",
       "4          0.0  33.0"
      ]
     },
     "execution_count": 2,
     "metadata": {},
     "output_type": "execute_result"
    }
   ],
   "source": [
    "# load data\n",
    "data = pd.read_csv( 'diabetes.csv', names=[ 'Pregnancies', 'Glucose', 'BloodPressure', 'SkinThickness', 'Insulin', 'BMI', 'DiabetesPedigreeFunction', 'Age', 'Outcome' ] )\n",
    "\n",
    "for col in data:\n",
    "    data[ col ] = data[ col ].astype( float )\n",
    "\n",
    "rows = len(data)\n",
    "print(rows)\n",
    "\n",
    "print(data.shape[1])\n",
    "data.head()\n",
    "type(data[\"Pregnancies\"])\n",
    "data[\"Pregnancies\"].shape\n",
    "newData = data[[\"Pregnancies\", \"Age\"]]\n",
    "newData.head()\n"
   ]
  },
  {
   "cell_type": "code",
   "execution_count": 3,
   "id": "43a426f6",
   "metadata": {
    "id": "43a426f6"
   },
   "outputs": [],
   "source": [
    "# impute\n",
    "for col in [ 'Glucose', 'BloodPressure', 'SkinThickness', 'Insulin', 'BMI' ]:\n",
    "    mean = data[ data[ col ] != 0.0 ][ col ].mean()\n",
    "    data[ col ] = data[ col ].replace( 0.0, mean )\n",
    "    "
   ]
  },
  {
   "cell_type": "code",
   "execution_count": 4,
   "id": "9fa0ec0b",
   "metadata": {
    "colab": {
     "base_uri": "https://localhost:8080/"
    },
    "id": "9fa0ec0b",
    "outputId": "239b8e0b-c7aa-40b6-e5ad-80e2c3e0b0b8"
   },
   "outputs": [
    {
     "name": "stderr",
     "output_type": "stream",
     "text": [
      "2022-08-12 17:53:07.837317: W tensorflow/stream_executor/platform/default/dso_loader.cc:64] Could not load dynamic library 'libcuda.so.1'; dlerror: libcuda.so.1: cannot open shared object file: No such file or directory\n",
      "2022-08-12 17:53:07.837521: W tensorflow/stream_executor/cuda/cuda_driver.cc:269] failed call to cuInit: UNKNOWN ERROR (303)\n",
      "2022-08-12 17:53:07.837775: I tensorflow/stream_executor/cuda/cuda_diagnostics.cc:156] kernel driver does not appear to be running on this host (kbjorner): /proc/driver/nvidia/version does not exist\n",
      "2022-08-12 17:53:07.840184: I tensorflow/core/platform/cpu_feature_guard.cc:193] This TensorFlow binary is optimized with oneAPI Deep Neural Network Library (oneDNN) to use the following CPU instructions in performance-critical operations:  AVX2 FMA\n",
      "To enable them in other operations, rebuild TensorFlow with the appropriate compiler flags.\n"
     ]
    },
    {
     "name": "stdout",
     "output_type": "stream",
     "text": [
      "Model: \"sequential\"\n",
      "_________________________________________________________________\n",
      " Layer (type)                Output Shape              Param #   \n",
      "=================================================================\n",
      " normalization (Normalizatio  (None, 8)                17        \n",
      " n)                                                              \n",
      "                                                                 \n",
      " dense (Dense)               (None, 9)                 81        \n",
      "                                                                 \n",
      " dense_1 (Dense)             (None, 20)                200       \n",
      "                                                                 \n",
      " dense_2 (Dense)             (None, 20)                420       \n",
      "                                                                 \n",
      " dense_3 (Dense)             (None, 1)                 21        \n",
      "                                                                 \n",
      " re_lu (ReLU)                (None, 1)                 0         \n",
      "                                                                 \n",
      "=================================================================\n",
      "Total params: 739\n",
      "Trainable params: 722\n",
      "Non-trainable params: 17\n",
      "_________________________________________________________________\n",
      "Epoch 1/10\n",
      "20/20 [==============================] - 1s 4ms/step - loss: 0.3318 - mean_squared_error: 0.3318\n",
      "Epoch 2/10\n",
      "20/20 [==============================] - 0s 4ms/step - loss: 0.2583 - mean_squared_error: 0.2583\n",
      "Epoch 3/10\n",
      "20/20 [==============================] - 0s 4ms/step - loss: 0.1928 - mean_squared_error: 0.1928\n",
      "Epoch 4/10\n",
      "20/20 [==============================] - 0s 3ms/step - loss: 0.1601 - mean_squared_error: 0.1601\n",
      "Epoch 5/10\n",
      "20/20 [==============================] - 0s 3ms/step - loss: 0.1522 - mean_squared_error: 0.1522\n",
      "Epoch 6/10\n",
      "20/20 [==============================] - 0s 3ms/step - loss: 0.1485 - mean_squared_error: 0.1485\n",
      "Epoch 7/10\n",
      "20/20 [==============================] - 0s 3ms/step - loss: 0.1459 - mean_squared_error: 0.1459\n",
      "Epoch 8/10\n",
      "20/20 [==============================] - 0s 3ms/step - loss: 0.1419 - mean_squared_error: 0.1419\n",
      "Epoch 9/10\n",
      "20/20 [==============================] - 0s 3ms/step - loss: 0.1387 - mean_squared_error: 0.1387\n",
      "Epoch 10/10\n",
      "20/20 [==============================] - 0s 3ms/step - loss: 0.1366 - mean_squared_error: 0.1366\n",
      "5/5 [==============================] - 0s 2ms/step - loss: 0.1861 - mean_squared_error: 0.1861\n"
     ]
    },
    {
     "data": {
      "text/plain": [
       "[0.18605075776576996, 0.18605075776576996]"
      ]
     },
     "execution_count": 4,
     "metadata": {},
     "output_type": "execute_result"
    }
   ],
   "source": [
    "# shuffle data \"in place\": https://stackoverflow.com/a/34879805\n",
    "data = data.sample( frac = 1 ).reset_index( drop = True )\n",
    "\n",
    "xs = data.copy()\n",
    "ys = xs.pop( 'Outcome' ).to_frame( name = 'Outcome' )\n",
    "\n",
    "test_len = len( xs ) // 5\n",
    "\n",
    "train_xs, test_xs = xs.head( len( xs ) - test_len ), xs.tail( test_len )\n",
    "train_ys, test_ys = ys.head( len( xs ) - test_len ), ys.tail( test_len )\n",
    "\n",
    "norm = keras.layers.Normalization()\n",
    "norm.adapt( train_xs )\n",
    "\n",
    "model = keras.Sequential()\n",
    "model.add( norm )\n",
    "model.add( keras.layers.Dense( 9, input_dim=9, kernel_initializer='normal', activation='relu' ) )\n",
    "model.add( keras.layers.Dense( 20, activation='relu' ) )\n",
    "model.add( keras.layers.Dense( 20, activation='relu' ) )\n",
    "model.add( keras.layers.Dense( 1, activation='relu' ) )\n",
    "model.add( keras.layers.ReLU( max_value = 1.0 ) ) # for clamping\n",
    "model.summary()\n",
    "\n",
    "model.compile( loss = tf.losses.MeanSquaredError(), optimizer = tf.optimizers.Adam(), metrics=[ tf.keras.metrics.MeanSquaredError() ] )\n",
    "\n",
    "model.fit( train_xs, train_ys, epochs = 10 )\n",
    "model.evaluate( test_xs, test_ys )\n"
   ]
  },
  {
   "cell_type": "code",
   "execution_count": 5,
   "id": "2uYDO-pGzbeD",
   "metadata": {
    "colab": {
     "base_uri": "https://localhost:8080/",
     "height": 423
    },
    "id": "2uYDO-pGzbeD",
    "outputId": "9ae70cad-d5be-40f4-9881-b6453efc0fa3"
   },
   "outputs": [
    {
     "data": {
      "text/html": [
       "<div>\n",
       "<style scoped>\n",
       "    .dataframe tbody tr th:only-of-type {\n",
       "        vertical-align: middle;\n",
       "    }\n",
       "\n",
       "    .dataframe tbody tr th {\n",
       "        vertical-align: top;\n",
       "    }\n",
       "\n",
       "    .dataframe thead th {\n",
       "        text-align: right;\n",
       "    }\n",
       "</style>\n",
       "<table border=\"1\" class=\"dataframe\">\n",
       "  <thead>\n",
       "    <tr style=\"text-align: right;\">\n",
       "      <th></th>\n",
       "      <th>Pregnancies</th>\n",
       "      <th>Glucose</th>\n",
       "      <th>BloodPressure</th>\n",
       "      <th>SkinThickness</th>\n",
       "      <th>Insulin</th>\n",
       "      <th>BMI</th>\n",
       "      <th>DiabetesPedigreeFunction</th>\n",
       "      <th>Age</th>\n",
       "    </tr>\n",
       "  </thead>\n",
       "  <tbody>\n",
       "    <tr>\n",
       "      <th>615</th>\n",
       "      <td>7.0</td>\n",
       "      <td>83.0</td>\n",
       "      <td>78.0</td>\n",
       "      <td>26.00000</td>\n",
       "      <td>71.000000</td>\n",
       "      <td>29.3</td>\n",
       "      <td>0.767</td>\n",
       "      <td>36.0</td>\n",
       "    </tr>\n",
       "    <tr>\n",
       "      <th>616</th>\n",
       "      <td>1.0</td>\n",
       "      <td>117.0</td>\n",
       "      <td>88.0</td>\n",
       "      <td>24.00000</td>\n",
       "      <td>145.000000</td>\n",
       "      <td>34.5</td>\n",
       "      <td>0.403</td>\n",
       "      <td>40.0</td>\n",
       "    </tr>\n",
       "    <tr>\n",
       "      <th>617</th>\n",
       "      <td>3.0</td>\n",
       "      <td>82.0</td>\n",
       "      <td>70.0</td>\n",
       "      <td>29.15342</td>\n",
       "      <td>155.548223</td>\n",
       "      <td>21.1</td>\n",
       "      <td>0.389</td>\n",
       "      <td>25.0</td>\n",
       "    </tr>\n",
       "    <tr>\n",
       "      <th>618</th>\n",
       "      <td>3.0</td>\n",
       "      <td>129.0</td>\n",
       "      <td>92.0</td>\n",
       "      <td>49.00000</td>\n",
       "      <td>155.000000</td>\n",
       "      <td>36.4</td>\n",
       "      <td>0.968</td>\n",
       "      <td>32.0</td>\n",
       "    </tr>\n",
       "    <tr>\n",
       "      <th>619</th>\n",
       "      <td>0.0</td>\n",
       "      <td>128.0</td>\n",
       "      <td>68.0</td>\n",
       "      <td>19.00000</td>\n",
       "      <td>180.000000</td>\n",
       "      <td>30.5</td>\n",
       "      <td>1.391</td>\n",
       "      <td>25.0</td>\n",
       "    </tr>\n",
       "    <tr>\n",
       "      <th>...</th>\n",
       "      <td>...</td>\n",
       "      <td>...</td>\n",
       "      <td>...</td>\n",
       "      <td>...</td>\n",
       "      <td>...</td>\n",
       "      <td>...</td>\n",
       "      <td>...</td>\n",
       "      <td>...</td>\n",
       "    </tr>\n",
       "    <tr>\n",
       "      <th>763</th>\n",
       "      <td>1.0</td>\n",
       "      <td>95.0</td>\n",
       "      <td>60.0</td>\n",
       "      <td>18.00000</td>\n",
       "      <td>58.000000</td>\n",
       "      <td>23.9</td>\n",
       "      <td>0.260</td>\n",
       "      <td>22.0</td>\n",
       "    </tr>\n",
       "    <tr>\n",
       "      <th>764</th>\n",
       "      <td>6.0</td>\n",
       "      <td>111.0</td>\n",
       "      <td>64.0</td>\n",
       "      <td>39.00000</td>\n",
       "      <td>155.548223</td>\n",
       "      <td>34.2</td>\n",
       "      <td>0.260</td>\n",
       "      <td>24.0</td>\n",
       "    </tr>\n",
       "    <tr>\n",
       "      <th>765</th>\n",
       "      <td>1.0</td>\n",
       "      <td>95.0</td>\n",
       "      <td>74.0</td>\n",
       "      <td>21.00000</td>\n",
       "      <td>73.000000</td>\n",
       "      <td>25.9</td>\n",
       "      <td>0.673</td>\n",
       "      <td>36.0</td>\n",
       "    </tr>\n",
       "    <tr>\n",
       "      <th>766</th>\n",
       "      <td>9.0</td>\n",
       "      <td>106.0</td>\n",
       "      <td>52.0</td>\n",
       "      <td>29.15342</td>\n",
       "      <td>155.548223</td>\n",
       "      <td>31.2</td>\n",
       "      <td>0.380</td>\n",
       "      <td>42.0</td>\n",
       "    </tr>\n",
       "    <tr>\n",
       "      <th>767</th>\n",
       "      <td>4.0</td>\n",
       "      <td>184.0</td>\n",
       "      <td>78.0</td>\n",
       "      <td>39.00000</td>\n",
       "      <td>277.000000</td>\n",
       "      <td>37.0</td>\n",
       "      <td>0.264</td>\n",
       "      <td>31.0</td>\n",
       "    </tr>\n",
       "  </tbody>\n",
       "</table>\n",
       "<p>153 rows × 8 columns</p>\n",
       "</div>"
      ],
      "text/plain": [
       "     Pregnancies  Glucose  BloodPressure  SkinThickness     Insulin   BMI  \\\n",
       "615          7.0     83.0           78.0       26.00000   71.000000  29.3   \n",
       "616          1.0    117.0           88.0       24.00000  145.000000  34.5   \n",
       "617          3.0     82.0           70.0       29.15342  155.548223  21.1   \n",
       "618          3.0    129.0           92.0       49.00000  155.000000  36.4   \n",
       "619          0.0    128.0           68.0       19.00000  180.000000  30.5   \n",
       "..           ...      ...            ...            ...         ...   ...   \n",
       "763          1.0     95.0           60.0       18.00000   58.000000  23.9   \n",
       "764          6.0    111.0           64.0       39.00000  155.548223  34.2   \n",
       "765          1.0     95.0           74.0       21.00000   73.000000  25.9   \n",
       "766          9.0    106.0           52.0       29.15342  155.548223  31.2   \n",
       "767          4.0    184.0           78.0       39.00000  277.000000  37.0   \n",
       "\n",
       "     DiabetesPedigreeFunction   Age  \n",
       "615                     0.767  36.0  \n",
       "616                     0.403  40.0  \n",
       "617                     0.389  25.0  \n",
       "618                     0.968  32.0  \n",
       "619                     1.391  25.0  \n",
       "..                        ...   ...  \n",
       "763                     0.260  22.0  \n",
       "764                     0.260  24.0  \n",
       "765                     0.673  36.0  \n",
       "766                     0.380  42.0  \n",
       "767                     0.264  31.0  \n",
       "\n",
       "[153 rows x 8 columns]"
      ]
     },
     "execution_count": 5,
     "metadata": {},
     "output_type": "execute_result"
    }
   ],
   "source": [
    "test_xs"
   ]
  },
  {
   "cell_type": "code",
   "execution_count": 6,
   "id": "Uz0nKIVFANgn",
   "metadata": {
    "colab": {
     "base_uri": "https://localhost:8080/"
    },
    "id": "Uz0nKIVFANgn",
    "outputId": "c284d7f2-fb3f-49da-82e8-54f9b0adf86d"
   },
   "outputs": [
    {
     "name": "stdout",
     "output_type": "stream",
     "text": [
      "ones: 50; zeros: 103\n"
     ]
    }
   ],
   "source": [
    "\n",
    "test_data = pd.concat([test_xs, test_ys], axis = 1)\n",
    "test_data\n",
    "# below equal to test_xs\n",
    "newData = test_data[['Pregnancies', 'Glucose', 'BloodPressure', 'SkinThickness', 'Insulin', 'BMI', 'DiabetesPedigreeFunction', 'Age']]\n",
    "\n",
    "f = open(\"pima_constraints.txt\", \"w\")\n",
    "\n",
    "n = 100\n",
    "oneCounter = 0\n",
    "zeroCounter = 0\n",
    "for i in range(len(test_xs)):\n",
    "  point = test_xs.values[i]\n",
    "  outcome = test_ys.values[i]\n",
    "  f.write(\"(constraint (= (rig_mimic {}) {}))\\n\".format(' '.join(map(lambda x: \"{:.4f}\".format(x), point)), 'true' if outcome == 1 else 'false'))\n",
    "  if outcome == 1:\n",
    "    oneCounter += 1\n",
    "  else:\n",
    "    zeroCounter += 1\n",
    "\n",
    "f.close()\n",
    "\n",
    "print(f\"ones: {oneCounter}; zeros: {zeroCounter}\")"
   ]
  },
  {
   "cell_type": "code",
   "execution_count": 7,
   "id": "69bc8d8a",
   "metadata": {
    "colab": {
     "base_uri": "https://localhost:8080/"
    },
    "id": "69bc8d8a",
    "outputId": "b0ef16b3-e6fb-48ec-d4cb-6f1062aab992"
   },
   "outputs": [
    {
     "name": "stdout",
     "output_type": "stream",
     "text": [
      "1/1 [==============================] - 0s 104ms/step\n",
      "     0      1     2     3      4     5      6     7\n",
      "0  3.0  129.0  92.0  49.0  155.0  36.4  0.968  32.0\n",
      "[[0.5203932]]\n",
      "\n",
      "1/1 [==============================] - 0s 21ms/step\n",
      "     0      1     2     3      4   5      6     7\n",
      "0  3.0  129.0  92.0  49.0  155.0  35  0.968  32.0\n",
      "[[0.4962201]]\n",
      "INFO:tensorflow:Assets written to: ./pima_model/assets\n"
     ]
    }
   ],
   "source": [
    "# counterfactual generation\n",
    "x1 = pd.DataFrame( data = [ [ 3.0, 129.0, 92.0, 49.0, 155.0, 36.4, 0.968, 32.0 ] ] )\n",
    "y1 = model.predict( x1 )\n",
    "print( x1 )\n",
    "print( y1 )\n",
    "print()\n",
    "\n",
    "x2 = pd.DataFrame( data = [ [ 3.0, 129.0, 92.0, 49.0, 155.0, 35, 0.968, 32.0 ] ] )\n",
    "y2 = model.predict( x2 )\n",
    "print( x2 )\n",
    "print( y2 )\n",
    "\n",
    "\n",
    "model.save( './pima_model' )"
   ]
  }
 ],
 "metadata": {
  "colab": {
   "collapsed_sections": [],
   "include_colab_link": true,
   "name": "pima_model.ipynb",
   "provenance": []
  },
  "kernelspec": {
   "display_name": "Python 3 (ipykernel)",
   "language": "python",
   "name": "python3"
  },
  "language_info": {
   "codemirror_mode": {
    "name": "ipython",
    "version": 3
   },
   "file_extension": ".py",
   "mimetype": "text/x-python",
   "name": "python",
   "nbconvert_exporter": "python",
   "pygments_lexer": "ipython3",
   "version": "3.10.4"
  }
 },
 "nbformat": 4,
 "nbformat_minor": 5
}
